{
  "nbformat": 4,
  "nbformat_minor": 0,
  "metadata": {
    "colab": {
      "provenance": [],
      "authorship_tag": "ABX9TyPtbQaKS4Tkxmginf82er53",
      "include_colab_link": true
    },
    "kernelspec": {
      "name": "python3",
      "display_name": "Python 3"
    },
    "language_info": {
      "name": "python"
    }
  },
  "cells": [
    {
      "cell_type": "markdown",
      "metadata": {
        "id": "view-in-github",
        "colab_type": "text"
      },
      "source": [
        "<a href=\"https://colab.research.google.com/github/arifaygun/CustomerEye/blob/main/Copy_of_Trustpilot_Report_(Template).ipynb\" target=\"_parent\"><img src=\"https://colab.research.google.com/assets/colab-badge.svg\" alt=\"Open In Colab\"/></a>"
      ]
    },
    {
      "cell_type": "code",
      "source": [
        "!pip install pycountry"
      ],
      "metadata": {
        "colab": {
          "base_uri": "https://localhost:8080/"
        },
        "id": "ql6xGfNZmKDg",
        "outputId": "2f83fea4-1f11-4ba6-8575-db9c178a505e"
      },
      "execution_count": 1,
      "outputs": [
        {
          "output_type": "stream",
          "name": "stdout",
          "text": [
            "Collecting pycountry\n",
            "  Downloading pycountry-23.12.11-py3-none-any.whl (6.2 MB)\n",
            "\u001b[2K     \u001b[90m━━━━━━━━━━━━━━━━━━━━━━━━━━━━━━━━━━━━━━━━\u001b[0m \u001b[32m6.2/6.2 MB\u001b[0m \u001b[31m25.6 MB/s\u001b[0m eta \u001b[36m0:00:00\u001b[0m\n",
            "\u001b[?25hInstalling collected packages: pycountry\n",
            "Successfully installed pycountry-23.12.11\n"
          ]
        }
      ]
    },
    {
      "cell_type": "code",
      "execution_count": 2,
      "metadata": {
        "id": "yBYwXfoulbmL"
      },
      "outputs": [],
      "source": [
        "import os\n",
        "import pandas as pd\n",
        "import pycountry\n",
        "from datetime import datetime\n",
        "from transformers import pipeline\n",
        "from google.colab import drive"
      ]
    },
    {
      "cell_type": "code",
      "source": [
        "# Mount Google Drive\n",
        "drive.mount('/content/drive/')\n",
        "%cd /content/drive/My Drive/Customereye Reports/"
      ],
      "metadata": {
        "colab": {
          "base_uri": "https://localhost:8080/"
        },
        "id": "z18EaTVYnMVC",
        "outputId": "6c63cd8e-a794-418e-d355-06fa206cb5d2"
      },
      "execution_count": 3,
      "outputs": [
        {
          "output_type": "stream",
          "name": "stdout",
          "text": [
            "Mounted at /content/drive/\n",
            "/content/drive/My Drive/Customereye Reports\n"
          ]
        }
      ]
    },
    {
      "cell_type": "code",
      "source": [
        "def preprocess_df(df, reply_text):\n",
        "\n",
        "    # Fill NaN values in 'Reviews Count' with 0, extract numeric values, and convert to integers\n",
        "    df['Reviews Count'] = df['Reviews Count'].fillna(0).astype(str).str.extract('(\\d+)', expand=False).fillna(0).astype(int)\n",
        "\n",
        "    # Replace the specified text in 'Reply Date' column\n",
        "    df['Reply Date'] = df['Reply Date'].str.replace(reply_text, '').str.strip()\n",
        "\n",
        "    # Convert 'Experience Date', 'Review Date', and 'Reply Date' to datetime\n",
        "    date_columns = ['Experience Date', 'Review Date', 'Reply Date']\n",
        "    df[date_columns] = df[date_columns].apply(pd.to_datetime, errors='coerce')\n",
        "\n",
        "    # Drop rows with NaN values in 'Experience Date', 'Review Date', or 'Reply Date'\n",
        "    df.dropna(subset=date_columns, inplace=True)\n",
        "\n",
        "    # Extract 'Year' from 'Review Date' and create a new column\n",
        "    df['Year'] = pd.to_datetime(df['Review Date']).dt.year.fillna(0).astype(int)\n",
        "\n",
        "    # Concatenate 'Review Title' and 'Review Text' into a new 'Reviews' column\n",
        "    df['Reviews'] = df['Review Title'].astype(str) + ' ' + df['Review Text'].astype(str)\n",
        "\n",
        "    # Rename 'Reply Text' column to 'Replies'\n",
        "    df.rename(columns={'Reply Text': 'Replies', 'Country Code': 'Country'}, inplace=True)\n",
        "\n",
        "    # Add a new column with country names\n",
        "    df['Countries'] = df['Country'].apply(lambda code: pycountry.countries.get(alpha_2=code).name if pycountry.countries.get(alpha_2=code) else None)\n",
        "\n",
        "    # Calculate response time between 'Experience Date' and 'Review Date' in days\n",
        "    df['Exp to Review'] = (df['Review Date'] - df['Experience Date']).dt.total_seconds() / 86400\n",
        "\n",
        "    # Calculate response time between 'Review Date' and 'Reply Date' in days\n",
        "    df['Review to Reply'] = (df['Reply Date'] - df['Review Date']).dt.total_seconds() / 86400\n",
        "\n",
        "    # Round the values to the nearest integer and convert to int\n",
        "    df[['Exp to Review', 'Review to Reply']] = df[['Exp to Review', 'Review to Reply']].round(0).astype(int)\n",
        "\n",
        "    # Drop the unnecessary 'Reviewer Name', 'Review Title' and 'Review Text','Country' columns\n",
        "    df.drop(['Reviewer Name', 'Review Title', 'Review Text','Country'], axis=1, inplace=True)\n",
        "\n",
        "    # Rearrange the columns\n",
        "    df = df[['Year', 'Experience Date', 'Review Date', 'Reply Date','Exp to Review',\n",
        "             'Review to Reply','Rating', 'Countries', 'Reviews', 'Replies']]\n",
        "\n",
        "    return df\n"
      ],
      "metadata": {
        "id": "mT_DMPmeldIV"
      },
      "execution_count": 4,
      "outputs": []
    },
    {
      "cell_type": "code",
      "source": [
        "# Function to perform sentiment analysis with error handling and text truncation\n",
        "def perform_sentiment_analysis(df):\n",
        "    # Load the sentiment analysis pipeline\n",
        "    pipe = pipeline(\"text-classification\", model=\"nlptown/bert-base-multilingual-uncased-sentiment\")\n",
        "\n",
        "    # Create a new column to store the sentiment analysis result\n",
        "    df['Sentiment'] = \"\"\n",
        "\n",
        "    # Define the maximum sequence length supported by the model\n",
        "    max_seq_length = pipe.model.config.max_position_embeddings\n",
        "\n",
        "    # Function to truncate text and perform sentiment analysis\n",
        "    def analyze_sentiment(text):\n",
        "        truncated_text = text[:max_seq_length - 2]  # Truncate text to fit within max sequence length\n",
        "        try:\n",
        "            # Perform sentiment analysis and extract sentiment label\n",
        "            sentiment_label = pipe(truncated_text)[0]['label']\n",
        "            numeric_sentiment = int(sentiment_label.split()[0])\n",
        "            return numeric_sentiment\n",
        "        except Exception as e:\n",
        "            print(f\"Error analyzing sentiment: {e}\")\n",
        "            return None  # Return None if sentiment analysis fails\n",
        "\n",
        "    # Apply sentiment analysis function to each review text\n",
        "    df['Sentiment'] = df['Reviews'].apply(analyze_sentiment)\n",
        "\n",
        "    # Drop rows with None values in Sentiment column (indicating error during sentiment analysis)\n",
        "    df.dropna(subset=['Sentiment'], inplace=True)\n",
        "\n",
        "    # Convert Sentiment column dtype to integer\n",
        "    df['Sentiment'] = df['Sentiment'].astype(int)\n",
        "\n",
        "    return df"
      ],
      "metadata": {
        "id": "vAgUAbGkljbH"
      },
      "execution_count": 5,
      "outputs": []
    },
    {
      "cell_type": "code",
      "source": [
        "# Function to save DataFrame to CSV with timestamp and custom filename\n",
        "def save_to_csv(df, original_filename):\n",
        "    # Get current date and time\n",
        "    now = datetime.now().strftime(\"%Y-%m-%d_%H-%M-%S\")\n",
        "\n",
        "    # Extract original filename without extension\n",
        "    filename_without_extension = os.path.splitext(original_filename)[0]\n",
        "\n",
        "    # Construct CSV file name with timestamp and original filename\n",
        "    output_csv_filename = f\"{filename_without_extension}_sentiment_analysis_{now}.csv\"\n",
        "\n",
        "    # Save the DataFrame to a CSV file\n",
        "    df.to_csv(output_csv_filename, index=False)\n",
        "\n",
        "    print(\"Output DataFrame saved to:\", output_csv_filename)\n"
      ],
      "metadata": {
        "id": "7Q6wY0Z_loNN"
      },
      "execution_count": 6,
      "outputs": []
    },
    {
      "cell_type": "code",
      "source": [
        "# Read the input CSV file\n",
        "df = pd.read_csv('advance_america.csv')\n",
        "\n",
        "# Preprocess the DataFrame\n",
        "df = preprocess_df(df, 'Reply from Advance America')\n",
        "\n",
        "# Perform sentiment analysis\n",
        "df = perform_sentiment_analysis(df)\n",
        "\n",
        "# Save the DataFrame to a CSV file\n",
        "save_to_csv(df, \"advance_america.csv\")"
      ],
      "metadata": {
        "id": "6OlGwHeylz99"
      },
      "execution_count": null,
      "outputs": []
    },
    {
      "cell_type": "code",
      "source": [
        "df.info()\n",
        "df.head()"
      ],
      "metadata": {
        "colab": {
          "base_uri": "https://localhost:8080/"
        },
        "id": "yYSMwdiK7y82",
        "outputId": "8734615f-3acd-4e50-cefa-53cf04216a82"
      },
      "execution_count": 8,
      "outputs": [
        {
          "output_type": "stream",
          "name": "stdout",
          "text": [
            "<class 'pandas.core.frame.DataFrame'>\n",
            "Int64Index: 40630 entries, 418 to 66478\n",
            "Data columns (total 10 columns):\n",
            " #   Column           Non-Null Count  Dtype         \n",
            "---  ------           --------------  -----         \n",
            " 0   Year             40630 non-null  int64         \n",
            " 1   Experience Date  40630 non-null  datetime64[ns]\n",
            " 2   Review Date      40630 non-null  datetime64[ns]\n",
            " 3   Reply Date       40630 non-null  datetime64[ns]\n",
            " 4   Exp to Review    40630 non-null  int64         \n",
            " 5   Review to Reply  40630 non-null  int64         \n",
            " 6   Rating           40630 non-null  int64         \n",
            " 7   Countries        40630 non-null  object        \n",
            " 8   Reviews          40630 non-null  object        \n",
            " 9   Replies          40630 non-null  object        \n",
            "dtypes: datetime64[ns](3), int64(4), object(3)\n",
            "memory usage: 3.4+ MB\n"
          ]
        }
      ]
    }
  ]
}